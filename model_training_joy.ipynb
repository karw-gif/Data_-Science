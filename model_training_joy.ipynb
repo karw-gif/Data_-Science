{
 "cells": [
  {
   "cell_type": "code",
   "execution_count": 1,
   "id": "785a1732-f498-489b-a2b3-d0ac357613ea",
   "metadata": {},
   "outputs": [
    {
     "name": "stdout",
     "output_type": "stream",
     "text": [
      "Index(['Age', 'Sex', 'Education', 'Vehicle', 'Driving_experience', 'Lanes',\n",
      "       'Junction', 'Road', 'Time', 'Weather_conditions', 'Collision_type',\n",
      "       'Vehicle_movement', 'Pedestrian_movement', 'Cause_of_accident',\n",
      "       'Accident_severity'],\n",
      "      dtype='object')\n",
      "Mean Squared Error: 0.33009160171000795\n"
     ]
    }
   ],
   "source": [
    "import pandas as pd\n",
    "from sklearn.model_selection import train_test_split\n",
    "from sklearn.linear_model import LinearRegression\n",
    "from sklearn.metrics import mean_squared_error\n",
    "from sklearn.preprocessing import OneHotEncoder\n",
    "from sklearn.compose import ColumnTransformer\n",
    "from sklearn.pipeline import Pipeline\n",
    "import pickle\n",
    "\n",
    "df = pd.read_csv(r\"C:\\joy\\accident_ data _joy.csv\")\n",
    "\n",
    "print(df.columns)\n",
    "\n",
    "categorical_columns = ['Age', 'Sex', 'Education', 'Vehicle', 'Lanes', 'Junction', \n",
    "                       'Road', 'Time', 'Weather_conditions', 'Collision_type', \n",
    "                       'Vehicle_movement', 'Pedestrian_movement', 'Cause_of_accident', \n",
    "                       'Driving_experience']\n",
    "\n",
    "X = df.drop('Accident_severity', axis=1) \n",
    "y = df['Accident_severity'] \n",
    "\n",
    "preprocessor = ColumnTransformer(\n",
    "    transformers=[\n",
    "        ('cat', OneHotEncoder(handle_unknown='ignore'), categorical_columns)\n",
    "    ], remainder='passthrough')  # Leave numerical data as is\n",
    "\n",
    "pipeline = Pipeline(steps=[('preprocessor', preprocessor),\n",
    "                           ('model', LinearRegression())])\n",
    "\n",
    "X_train, X_test, y_train, y_test = train_test_split(X, y, test_size=0.2, random_state=42)\n",
    "\n",
    "pipeline.fit(X_train, y_train)\n",
    "\n",
    "y_pred = pipeline.predict(X_test)\n",
    "\n",
    "mse = mean_squared_error(y_test, y_pred)\n",
    "print(f'Mean Squared Error: {mse}')\n",
    "\n",
    "with open('road_accident_severity_model.pkl', 'wb') as file:\n",
    "    pickle.dump(pipeline, file)\n",
    "\n",
    "with open('road_accident_severity_model.pkl', 'rb') as file:\n",
    "    pipeline = pickle.load(file)\n"
   ]
  },
  {
   "cell_type": "code",
   "execution_count": null,
   "id": "1381ce20-0a85-46cd-a800-6c93042bf079",
   "metadata": {},
   "outputs": [],
   "source": []
  }
 ],
 "metadata": {
  "kernelspec": {
   "display_name": "Python 3 (ipykernel)",
   "language": "python",
   "name": "python3"
  },
  "language_info": {
   "codemirror_mode": {
    "name": "ipython",
    "version": 3
   },
   "file_extension": ".py",
   "mimetype": "text/x-python",
   "name": "python",
   "nbconvert_exporter": "python",
   "pygments_lexer": "ipython3",
   "version": "3.11.7"
  }
 },
 "nbformat": 4,
 "nbformat_minor": 5
}
